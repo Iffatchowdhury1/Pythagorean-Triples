{
 "cells": [
  {
   "cell_type": "markdown",
   "metadata": {},
   "source": [
    "# Project 2 Pythagorean Triples"
   ]
  },
  {
   "cell_type": "markdown",
   "metadata": {},
   "source": [
    "##  Introduction"
   ]
  },
  {
   "cell_type": "markdown",
   "metadata": {},
   "source": [
    "This project has to do with Pythagorean triples, which is a set of three positive integers $(a, b, c)$ that satisfy the requirements shown below.\n",
    "$$ a^2 + b^2 = c^2 $$"
   ]
  },
  {
   "cell_type": "markdown",
   "metadata": {},
   "source": [
    "where $1≤a,b≤n$"
   ]
  },
  {
   "cell_type": "markdown",
   "metadata": {},
   "source": [
    "##### Examples"
   ]
  },
  {
   "cell_type": "markdown",
   "metadata": {},
   "source": [
    "* (3, 4, 5) because ($3^2 + 4^2 = 5^2$)\n",
    "* (12, 5, 13) because ($12^2 + 5^2 = 13^2$)\n",
    "* (20, 15, 25) because ($20^2 + 15^2 = 25^2$)"
   ]
  },
  {
   "cell_type": "markdown",
   "metadata": {},
   "source": [
    "##### Overview of Project"
   ]
  },
  {
   "cell_type": "markdown",
   "metadata": {},
   "source": [
    "In part 1 of the project I will create a function ptriples(n) that returns all of the Pythagorean triples in a format of $(a,b,c)$  where $1≤a,b≤n$."
   ]
  },
  {
   "cell_type": "markdown",
   "metadata": {},
   "source": [
    "In part 2 I will create another function that creates a graph based on the input of $n$. The x-axis will represent the $a$ value and the y-axis will represent the $b$ value."
   ]
  },
  {
   "cell_type": "markdown",
   "metadata": {},
   "source": [
    "In part 3 is where I described my analysis and my takeaways from the Pythagorean triples that were created. "
   ]
  },
  {
   "cell_type": "markdown",
   "metadata": {},
   "source": [
    " #                   "
   ]
  },
  {
   "cell_type": "markdown",
   "metadata": {},
   "source": [
    "## Part 1"
   ]
  },
  {
   "cell_type": "code",
   "execution_count": 1,
   "metadata": {},
   "outputs": [],
   "source": [
    "import math\n",
    "def ptriples(n):\n",
    "    list1=[]                               \n",
    "    list2=[]\n",
    "    for i in range(1, n+1):                     \n",
    "        for d in range (1, n + 1):              # two for loops are being used to assount for a and b\n",
    "            square = (i**2)+ (d**2)\n",
    "            root = math.sqrt(square)\n",
    "            if int(root) - root == 0:\n",
    "                list1 = [i,d,int(root)]         # list1 will have a set of one pythagorean triple\n",
    "                list2.append(list1)             # the current list1 is being added to the existing list2\n",
    "                list1=[]                        # list1 is being cleared to create another set\n",
    "    return list2                                # by the end list2 contain pythagorean triples, where 1≤a,b≤n\n",
    "                \n",
    "            "
   ]
  },
  {
   "cell_type": "markdown",
   "metadata": {},
   "source": [
    "### Test Cases"
   ]
  },
  {
   "cell_type": "code",
   "execution_count": 2,
   "metadata": {},
   "outputs": [
    {
     "data": {
      "text/plain": [
       "[[3, 4, 5],\n",
       " [4, 3, 5],\n",
       " [5, 12, 13],\n",
       " [6, 8, 10],\n",
       " [8, 6, 10],\n",
       " [8, 15, 17],\n",
       " [9, 12, 15],\n",
       " [12, 5, 13],\n",
       " [12, 9, 15],\n",
       " [12, 16, 20],\n",
       " [15, 8, 17],\n",
       " [15, 20, 25],\n",
       " [16, 12, 20],\n",
       " [20, 15, 25]]"
      ]
     },
     "execution_count": 2,
     "metadata": {},
     "output_type": "execute_result"
    }
   ],
   "source": [
    "ptriples(20)"
   ]
  },
  {
   "cell_type": "code",
   "execution_count": 3,
   "metadata": {},
   "outputs": [
    {
     "data": {
      "text/plain": [
       "[[3, 4, 5],\n",
       " [4, 3, 5],\n",
       " [5, 12, 13],\n",
       " [6, 8, 10],\n",
       " [7, 24, 25],\n",
       " [8, 6, 10],\n",
       " [8, 15, 17],\n",
       " [9, 12, 15],\n",
       " [10, 24, 26],\n",
       " [12, 5, 13],\n",
       " [12, 9, 15],\n",
       " [12, 16, 20],\n",
       " [12, 35, 37],\n",
       " [15, 8, 17],\n",
       " [15, 20, 25],\n",
       " [15, 36, 39],\n",
       " [16, 12, 20],\n",
       " [16, 30, 34],\n",
       " [18, 24, 30],\n",
       " [20, 15, 25],\n",
       " [20, 21, 29],\n",
       " [21, 20, 29],\n",
       " [21, 28, 35],\n",
       " [24, 7, 25],\n",
       " [24, 10, 26],\n",
       " [24, 18, 30],\n",
       " [24, 32, 40],\n",
       " [27, 36, 45],\n",
       " [28, 21, 35],\n",
       " [30, 16, 34],\n",
       " [32, 24, 40],\n",
       " [35, 12, 37],\n",
       " [36, 15, 39],\n",
       " [36, 27, 45]]"
      ]
     },
     "execution_count": 3,
     "metadata": {},
     "output_type": "execute_result"
    }
   ],
   "source": [
    "ptriples(37)"
   ]
  },
  {
   "cell_type": "code",
   "execution_count": 4,
   "metadata": {},
   "outputs": [
    {
     "data": {
      "text/plain": [
       "[[3, 4, 5],\n",
       " [4, 3, 5],\n",
       " [5, 12, 13],\n",
       " [6, 8, 10],\n",
       " [7, 24, 25],\n",
       " [8, 6, 10],\n",
       " [8, 15, 17],\n",
       " [9, 12, 15],\n",
       " [9, 40, 41],\n",
       " [10, 24, 26],\n",
       " [11, 60, 61],\n",
       " [12, 5, 13],\n",
       " [12, 9, 15],\n",
       " [12, 16, 20],\n",
       " [12, 35, 37],\n",
       " [13, 84, 85],\n",
       " [14, 48, 50],\n",
       " [15, 8, 17],\n",
       " [15, 20, 25],\n",
       " [15, 36, 39],\n",
       " [15, 112, 113],\n",
       " [16, 12, 20],\n",
       " [16, 30, 34],\n",
       " [16, 63, 65],\n",
       " [17, 144, 145],\n",
       " [18, 24, 30],\n",
       " [18, 80, 82],\n",
       " [19, 180, 181],\n",
       " [20, 15, 25],\n",
       " [20, 21, 29],\n",
       " [20, 48, 52],\n",
       " [20, 99, 101],\n",
       " [21, 20, 29],\n",
       " [21, 28, 35],\n",
       " [21, 72, 75],\n",
       " [21, 220, 221],\n",
       " [22, 120, 122],\n",
       " [23, 264, 265],\n",
       " [24, 7, 25],\n",
       " [24, 10, 26],\n",
       " [24, 18, 30],\n",
       " [24, 32, 40],\n",
       " [24, 45, 51],\n",
       " [24, 70, 74],\n",
       " [24, 143, 145],\n",
       " [25, 60, 65],\n",
       " [25, 312, 313],\n",
       " [26, 168, 170],\n",
       " [27, 36, 45],\n",
       " [27, 120, 123],\n",
       " [27, 364, 365],\n",
       " [28, 21, 35],\n",
       " [28, 45, 53],\n",
       " [28, 96, 100],\n",
       " [28, 195, 197],\n",
       " [29, 420, 421],\n",
       " [30, 16, 34],\n",
       " [30, 40, 50],\n",
       " [30, 72, 78],\n",
       " [30, 224, 226],\n",
       " [31, 480, 481],\n",
       " [32, 24, 40],\n",
       " [32, 60, 68],\n",
       " [32, 126, 130],\n",
       " [32, 255, 257],\n",
       " [33, 44, 55],\n",
       " [33, 56, 65],\n",
       " [33, 180, 183],\n",
       " [34, 288, 290],\n",
       " [35, 12, 37],\n",
       " [35, 84, 91],\n",
       " [35, 120, 125],\n",
       " [36, 15, 39],\n",
       " [36, 27, 45],\n",
       " [36, 48, 60],\n",
       " [36, 77, 85],\n",
       " [36, 105, 111],\n",
       " [36, 160, 164],\n",
       " [36, 323, 325],\n",
       " [38, 360, 362],\n",
       " [39, 52, 65],\n",
       " [39, 80, 89],\n",
       " [39, 252, 255],\n",
       " [40, 9, 41],\n",
       " [40, 30, 50],\n",
       " [40, 42, 58],\n",
       " [40, 75, 85],\n",
       " [40, 96, 104],\n",
       " [40, 198, 202],\n",
       " [40, 399, 401],\n",
       " [42, 40, 58],\n",
       " [42, 56, 70],\n",
       " [42, 144, 150],\n",
       " [42, 440, 442],\n",
       " [44, 33, 55],\n",
       " [44, 117, 125],\n",
       " [44, 240, 244],\n",
       " [44, 483, 485],\n",
       " [45, 24, 51],\n",
       " [45, 28, 53],\n",
       " [45, 60, 75],\n",
       " [45, 108, 117],\n",
       " [45, 200, 205],\n",
       " [45, 336, 339],\n",
       " [48, 14, 50],\n",
       " [48, 20, 52],\n",
       " [48, 36, 60],\n",
       " [48, 55, 73],\n",
       " [48, 64, 80],\n",
       " [48, 90, 102],\n",
       " [48, 140, 148],\n",
       " [48, 189, 195],\n",
       " [48, 286, 290],\n",
       " [49, 168, 175],\n",
       " [50, 120, 130],\n",
       " [51, 68, 85],\n",
       " [51, 140, 149],\n",
       " [51, 432, 435],\n",
       " [52, 39, 65],\n",
       " [52, 165, 173],\n",
       " [52, 336, 340],\n",
       " [54, 72, 90],\n",
       " [54, 240, 246],\n",
       " [55, 48, 73],\n",
       " [55, 132, 143],\n",
       " [55, 300, 305],\n",
       " [56, 33, 65],\n",
       " [56, 42, 70],\n",
       " [56, 90, 106],\n",
       " [56, 105, 119],\n",
       " [56, 192, 200],\n",
       " [56, 390, 394],\n",
       " [57, 76, 95],\n",
       " [57, 176, 185],\n",
       " [60, 11, 61],\n",
       " [60, 25, 65],\n",
       " [60, 32, 68],\n",
       " [60, 45, 75],\n",
       " [60, 63, 87],\n",
       " [60, 80, 100],\n",
       " [60, 91, 109],\n",
       " [60, 144, 156],\n",
       " [60, 175, 185],\n",
       " [60, 221, 229],\n",
       " [60, 297, 303],\n",
       " [60, 448, 452],\n",
       " [63, 16, 65],\n",
       " [63, 60, 87],\n",
       " [63, 84, 105],\n",
       " [63, 216, 225],\n",
       " [63, 280, 287],\n",
       " [64, 48, 80],\n",
       " [64, 120, 136],\n",
       " [64, 252, 260],\n",
       " [65, 72, 97],\n",
       " [65, 156, 169],\n",
       " [65, 420, 425],\n",
       " [66, 88, 110],\n",
       " [66, 112, 130],\n",
       " [66, 360, 366],\n",
       " [68, 51, 85],\n",
       " [68, 285, 293],\n",
       " [69, 92, 115],\n",
       " [69, 260, 269],\n",
       " [70, 24, 74],\n",
       " [70, 168, 182],\n",
       " [70, 240, 250],\n",
       " [72, 21, 75],\n",
       " [72, 30, 78],\n",
       " [72, 54, 90],\n",
       " [72, 65, 97],\n",
       " [72, 96, 120],\n",
       " [72, 135, 153],\n",
       " [72, 154, 170],\n",
       " [72, 210, 222],\n",
       " [72, 320, 328],\n",
       " [72, 429, 435],\n",
       " [75, 40, 85],\n",
       " [75, 100, 125],\n",
       " [75, 180, 195],\n",
       " [75, 308, 317],\n",
       " [76, 57, 95],\n",
       " [76, 357, 365],\n",
       " [77, 36, 85],\n",
       " [77, 264, 275],\n",
       " [77, 420, 427],\n",
       " [78, 104, 130],\n",
       " [78, 160, 178],\n",
       " [80, 18, 82],\n",
       " [80, 39, 89],\n",
       " [80, 60, 100],\n",
       " [80, 84, 116],\n",
       " [80, 150, 170],\n",
       " [80, 192, 208],\n",
       " [80, 315, 325],\n",
       " [80, 396, 404],\n",
       " [81, 108, 135],\n",
       " [81, 360, 369],\n",
       " [84, 13, 85],\n",
       " [84, 35, 91],\n",
       " [84, 63, 105],\n",
       " [84, 80, 116],\n",
       " [84, 112, 140],\n",
       " [84, 135, 159],\n",
       " [84, 187, 205],\n",
       " [84, 245, 259],\n",
       " [84, 288, 300],\n",
       " [84, 437, 445],\n",
       " [85, 132, 157],\n",
       " [85, 204, 221],\n",
       " [87, 116, 145],\n",
       " [87, 416, 425],\n",
       " [88, 66, 110],\n",
       " [88, 105, 137],\n",
       " [88, 165, 187],\n",
       " [88, 234, 250],\n",
       " [88, 480, 488],\n",
       " [90, 48, 102],\n",
       " [90, 56, 106],\n",
       " [90, 120, 150],\n",
       " [90, 216, 234],\n",
       " [90, 400, 410],\n",
       " [91, 60, 109],\n",
       " [91, 312, 325],\n",
       " [92, 69, 115],\n",
       " [93, 124, 155],\n",
       " [93, 476, 485],\n",
       " [95, 168, 193],\n",
       " [95, 228, 247],\n",
       " [96, 28, 100],\n",
       " [96, 40, 104],\n",
       " [96, 72, 120],\n",
       " [96, 110, 146],\n",
       " [96, 128, 160],\n",
       " [96, 180, 204],\n",
       " [96, 247, 265],\n",
       " [96, 280, 296],\n",
       " [96, 378, 390],\n",
       " [98, 336, 350],\n",
       " [99, 20, 101],\n",
       " [99, 132, 165],\n",
       " [99, 168, 195],\n",
       " [99, 440, 451],\n",
       " [100, 75, 125],\n",
       " [100, 105, 145],\n",
       " [100, 240, 260],\n",
       " [100, 495, 505],\n",
       " [102, 136, 170],\n",
       " [102, 280, 298],\n",
       " [104, 78, 130],\n",
       " [104, 153, 185],\n",
       " [104, 195, 221],\n",
       " [104, 330, 346],\n",
       " [105, 36, 111],\n",
       " [105, 56, 119],\n",
       " [105, 88, 137],\n",
       " [105, 100, 145],\n",
       " [105, 140, 175],\n",
       " [105, 208, 233],\n",
       " [105, 252, 273],\n",
       " [105, 360, 375],\n",
       " [108, 45, 117],\n",
       " [108, 81, 135],\n",
       " [108, 144, 180],\n",
       " [108, 231, 255],\n",
       " [108, 315, 333],\n",
       " [108, 480, 492],\n",
       " [110, 96, 146],\n",
       " [110, 264, 286],\n",
       " [111, 148, 185],\n",
       " [112, 15, 113],\n",
       " [112, 66, 130],\n",
       " [112, 84, 140],\n",
       " [112, 180, 212],\n",
       " [112, 210, 238],\n",
       " [112, 384, 400],\n",
       " [112, 441, 455],\n",
       " [114, 152, 190],\n",
       " [114, 352, 370],\n",
       " [115, 252, 277],\n",
       " [115, 276, 299],\n",
       " [116, 87, 145],\n",
       " [117, 44, 125],\n",
       " [117, 156, 195],\n",
       " [117, 240, 267],\n",
       " [119, 120, 169],\n",
       " [119, 408, 425],\n",
       " [120, 22, 122],\n",
       " [120, 27, 123],\n",
       " [120, 35, 125],\n",
       " [120, 50, 130],\n",
       " [120, 64, 136],\n",
       " [120, 90, 150],\n",
       " [120, 119, 169],\n",
       " [120, 126, 174],\n",
       " [120, 160, 200],\n",
       " [120, 182, 218],\n",
       " [120, 209, 241],\n",
       " [120, 225, 255],\n",
       " [120, 288, 312],\n",
       " [120, 350, 370],\n",
       " [120, 391, 409],\n",
       " [120, 442, 458],\n",
       " [123, 164, 205],\n",
       " [124, 93, 155],\n",
       " [125, 300, 325],\n",
       " [126, 32, 130],\n",
       " [126, 120, 174],\n",
       " [126, 168, 210],\n",
       " [126, 432, 450],\n",
       " [128, 96, 160],\n",
       " [128, 240, 272],\n",
       " [129, 172, 215],\n",
       " [130, 144, 194],\n",
       " [130, 312, 338],\n",
       " [132, 55, 143],\n",
       " [132, 85, 157],\n",
       " [132, 99, 165],\n",
       " [132, 176, 220],\n",
       " [132, 224, 260],\n",
       " [132, 351, 375],\n",
       " [132, 385, 407],\n",
       " [132, 475, 493],\n",
       " [133, 156, 205],\n",
       " [133, 456, 475],\n",
       " [135, 72, 153],\n",
       " [135, 84, 159],\n",
       " [135, 180, 225],\n",
       " [135, 324, 351],\n",
       " [135, 352, 377],\n",
       " [136, 102, 170],\n",
       " [136, 255, 289],\n",
       " [136, 273, 305],\n",
       " [138, 184, 230],\n",
       " [140, 48, 148],\n",
       " [140, 51, 149],\n",
       " [140, 105, 175],\n",
       " [140, 147, 203],\n",
       " [140, 171, 221],\n",
       " [140, 225, 265],\n",
       " [140, 336, 364],\n",
       " [140, 480, 500],\n",
       " [141, 188, 235],\n",
       " [143, 24, 145],\n",
       " [144, 17, 145],\n",
       " [144, 42, 150],\n",
       " [144, 60, 156],\n",
       " [144, 108, 180],\n",
       " [144, 130, 194],\n",
       " [144, 165, 219],\n",
       " [144, 192, 240],\n",
       " [144, 270, 306],\n",
       " [144, 308, 340],\n",
       " [144, 420, 444],\n",
       " [145, 348, 377],\n",
       " [145, 408, 433],\n",
       " [147, 140, 203],\n",
       " [147, 196, 245],\n",
       " [148, 111, 185],\n",
       " [150, 80, 170],\n",
       " [150, 200, 250],\n",
       " [150, 360, 390],\n",
       " [152, 114, 190],\n",
       " [152, 285, 323],\n",
       " [152, 345, 377],\n",
       " [153, 104, 185],\n",
       " [153, 204, 255],\n",
       " [153, 420, 447],\n",
       " [154, 72, 170],\n",
       " [155, 372, 403],\n",
       " [155, 468, 493],\n",
       " [156, 65, 169],\n",
       " [156, 117, 195],\n",
       " [156, 133, 205],\n",
       " [156, 208, 260],\n",
       " [156, 320, 356],\n",
       " [156, 455, 481],\n",
       " [156, 495, 519],\n",
       " [159, 212, 265],\n",
       " [160, 36, 164],\n",
       " [160, 78, 178],\n",
       " [160, 120, 200],\n",
       " [160, 168, 232],\n",
       " [160, 231, 281],\n",
       " [160, 300, 340],\n",
       " [160, 384, 416],\n",
       " [161, 240, 289],\n",
       " [162, 216, 270],\n",
       " [164, 123, 205],\n",
       " [165, 52, 173],\n",
       " [165, 88, 187],\n",
       " [165, 144, 219],\n",
       " [165, 220, 275],\n",
       " [165, 280, 325],\n",
       " [165, 396, 429],\n",
       " [168, 26, 170],\n",
       " [168, 49, 175],\n",
       " [168, 70, 182],\n",
       " [168, 95, 193],\n",
       " [168, 99, 195],\n",
       " [168, 126, 210],\n",
       " [168, 160, 232],\n",
       " [168, 224, 280],\n",
       " [168, 270, 318],\n",
       " [168, 315, 357],\n",
       " [168, 374, 410],\n",
       " [168, 425, 457],\n",
       " [168, 490, 518],\n",
       " [170, 264, 314],\n",
       " [170, 408, 442],\n",
       " [171, 140, 221],\n",
       " [171, 228, 285],\n",
       " [172, 129, 215],\n",
       " [174, 232, 290],\n",
       " [175, 60, 185],\n",
       " [175, 288, 337],\n",
       " [175, 420, 455],\n",
       " [176, 57, 185],\n",
       " [176, 132, 220],\n",
       " [176, 210, 274],\n",
       " [176, 330, 374],\n",
       " [176, 468, 500],\n",
       " [177, 236, 295],\n",
       " [180, 19, 181],\n",
       " [180, 33, 183],\n",
       " [180, 75, 195],\n",
       " [180, 96, 204],\n",
       " [180, 112, 212],\n",
       " [180, 135, 225],\n",
       " [180, 189, 261],\n",
       " [180, 240, 300],\n",
       " [180, 273, 327],\n",
       " [180, 299, 349],\n",
       " [180, 385, 425],\n",
       " [180, 432, 468],\n",
       " [182, 120, 218],\n",
       " [183, 244, 305],\n",
       " [184, 138, 230],\n",
       " [184, 345, 391],\n",
       " [185, 444, 481],\n",
       " [186, 248, 310],\n",
       " [187, 84, 205],\n",
       " [188, 141, 235],\n",
       " [189, 48, 195],\n",
       " [189, 180, 261],\n",
       " [189, 252, 315],\n",
       " [189, 340, 389],\n",
       " [190, 336, 386],\n",
       " [190, 456, 494],\n",
       " [192, 56, 200],\n",
       " [192, 80, 208],\n",
       " [192, 144, 240],\n",
       " [192, 220, 292],\n",
       " [192, 256, 320],\n",
       " [192, 360, 408],\n",
       " [192, 494, 530],\n",
       " [195, 28, 197],\n",
       " [195, 104, 221],\n",
       " [195, 216, 291],\n",
       " [195, 260, 325],\n",
       " [195, 400, 445],\n",
       " [195, 468, 507],\n",
       " [196, 147, 245],\n",
       " [196, 315, 371],\n",
       " [198, 40, 202],\n",
       " [198, 264, 330],\n",
       " [198, 336, 390],\n",
       " [200, 45, 205],\n",
       " [200, 150, 250],\n",
       " [200, 210, 290],\n",
       " [200, 375, 425],\n",
       " [200, 480, 520],\n",
       " [201, 268, 335],\n",
       " [203, 396, 445],\n",
       " [204, 85, 221],\n",
       " [204, 153, 255],\n",
       " [204, 253, 325],\n",
       " [204, 272, 340],\n",
       " [205, 492, 533],\n",
       " [207, 224, 305],\n",
       " [207, 276, 345],\n",
       " [208, 105, 233],\n",
       " [208, 156, 260],\n",
       " [208, 306, 370],\n",
       " [208, 390, 442],\n",
       " [209, 120, 241],\n",
       " [210, 72, 222],\n",
       " [210, 112, 238],\n",
       " [210, 176, 274],\n",
       " [210, 200, 290],\n",
       " [210, 280, 350],\n",
       " [210, 416, 466],\n",
       " [212, 159, 265],\n",
       " [213, 284, 355],\n",
       " [216, 63, 225],\n",
       " [216, 90, 234],\n",
       " [216, 162, 270],\n",
       " [216, 195, 291],\n",
       " [216, 288, 360],\n",
       " [216, 405, 459],\n",
       " [216, 462, 510],\n",
       " [217, 456, 505],\n",
       " [219, 292, 365],\n",
       " [220, 21, 221],\n",
       " [220, 165, 275],\n",
       " [220, 192, 292],\n",
       " [220, 231, 319],\n",
       " [220, 459, 509],\n",
       " [221, 60, 229],\n",
       " [222, 296, 370],\n",
       " [224, 30, 226],\n",
       " [224, 132, 260],\n",
       " [224, 168, 280],\n",
       " [224, 207, 305],\n",
       " [224, 360, 424],\n",
       " [224, 420, 476],\n",
       " [225, 120, 255],\n",
       " [225, 140, 265],\n",
       " [225, 272, 353],\n",
       " [225, 300, 375],\n",
       " [228, 95, 247],\n",
       " [228, 171, 285],\n",
       " [228, 304, 380],\n",
       " [228, 325, 397],\n",
       " [231, 108, 255],\n",
       " [231, 160, 281],\n",
       " [231, 220, 319],\n",
       " [231, 308, 385],\n",
       " [231, 392, 455],\n",
       " [232, 174, 290],\n",
       " [232, 435, 493],\n",
       " [234, 88, 250],\n",
       " [234, 312, 390],\n",
       " [234, 480, 534],\n",
       " [236, 177, 295],\n",
       " [237, 316, 395],\n",
       " [238, 240, 338],\n",
       " [240, 44, 244],\n",
       " [240, 54, 246],\n",
       " [240, 70, 250],\n",
       " [240, 100, 260],\n",
       " [240, 117, 267],\n",
       " [240, 128, 272],\n",
       " [240, 161, 289],\n",
       " [240, 180, 300],\n",
       " [240, 238, 338],\n",
       " [240, 252, 348],\n",
       " [240, 275, 365],\n",
       " [240, 320, 400],\n",
       " [240, 364, 436],\n",
       " [240, 418, 482],\n",
       " [240, 450, 510],\n",
       " [243, 324, 405],\n",
       " [244, 183, 305],\n",
       " [245, 84, 259],\n",
       " [246, 328, 410],\n",
       " [247, 96, 265],\n",
       " [248, 186, 310],\n",
       " [248, 465, 527],\n",
       " [249, 332, 415],\n",
       " [252, 39, 255],\n",
       " [252, 64, 260],\n",
       " [252, 105, 273],\n",
       " [252, 115, 277],\n",
       " [252, 189, 315],\n",
       " [252, 240, 348],\n",
       " [252, 275, 373],\n",
       " [252, 336, 420],\n",
       " [252, 405, 477],\n",
       " [253, 204, 325],\n",
       " [255, 32, 257],\n",
       " [255, 136, 289],\n",
       " [255, 340, 425],\n",
       " [255, 396, 471],\n",
       " [256, 192, 320],\n",
       " [256, 480, 544],\n",
       " [258, 344, 430],\n",
       " [260, 69, 269],\n",
       " [260, 195, 325],\n",
       " [260, 273, 377],\n",
       " [260, 288, 388],\n",
       " [261, 348, 435],\n",
       " [261, 380, 461],\n",
       " [264, 23, 265],\n",
       " [264, 77, 275],\n",
       " [264, 110, 286],\n",
       " [264, 170, 314],\n",
       " [264, 198, 330],\n",
       " [264, 315, 411],\n",
       " [264, 352, 440],\n",
       " [264, 448, 520],\n",
       " [264, 495, 561],\n",
       " [266, 312, 410],\n",
       " [267, 356, 445],\n",
       " [268, 201, 335],\n",
       " [270, 144, 306],\n",
       " [270, 168, 318],\n",
       " [270, 360, 450],\n",
       " [272, 204, 340],\n",
       " [272, 225, 353],\n",
       " [273, 136, 305],\n",
       " [273, 180, 327],\n",
       " [273, 260, 377],\n",
       " [273, 364, 455],\n",
       " [275, 240, 365],\n",
       " [275, 252, 373],\n",
       " [276, 115, 299],\n",
       " [276, 207, 345],\n",
       " [276, 368, 460],\n",
       " [276, 493, 565],\n",
       " [279, 372, 465],\n",
       " [279, 440, 521],\n",
       " [280, 63, 287],\n",
       " [280, 96, 296],\n",
       " [280, 102, 298],\n",
       " [280, 165, 325],\n",
       " [280, 210, 350],\n",
       " [280, 294, 406],\n",
       " [280, 342, 442],\n",
       " [280, 351, 449],\n",
       " [280, 450, 530],\n",
       " [282, 376, 470],\n",
       " [284, 213, 355],\n",
       " [285, 68, 293],\n",
       " [285, 152, 323],\n",
       " [285, 380, 475],\n",
       " [286, 48, 290],\n",
       " [288, 34, 290],\n",
       " [288, 84, 300],\n",
       " [288, 120, 312],\n",
       " [288, 175, 337],\n",
       " [288, 216, 360],\n",
       " [288, 260, 388],\n",
       " [288, 330, 438],\n",
       " [288, 384, 480],\n",
       " [291, 388, 485],\n",
       " [292, 219, 365],\n",
       " [294, 280, 406],\n",
       " [294, 392, 490],\n",
       " [296, 222, 370],\n",
       " [297, 60, 303],\n",
       " [297, 304, 425],\n",
       " [297, 396, 495],\n",
       " [299, 180, 349],\n",
       " [300, 55, 305],\n",
       " [300, 125, 325],\n",
       " [300, 160, 340],\n",
       " [300, 225, 375],\n",
       " [300, 315, 435],\n",
       " [300, 400, 500],\n",
       " [300, 455, 545],\n",
       " [303, 404, 505],\n",
       " [304, 228, 380],\n",
       " [304, 297, 425],\n",
       " [306, 208, 370],\n",
       " [306, 408, 510],\n",
       " [308, 75, 317],\n",
       " [308, 144, 340],\n",
       " [308, 231, 385],\n",
       " [308, 435, 533],\n",
       " [308, 495, 583],\n",
       " [309, 412, 515],\n",
       " [312, 25, 313],\n",
       " [312, 91, 325],\n",
       " [312, 130, 338],\n",
       " [312, 234, 390],\n",
       " [312, 266, 410],\n",
       " [312, 416, 520],\n",
       " [312, 459, 555],\n",
       " [315, 80, 325],\n",
       " [315, 108, 333],\n",
       " [315, 168, 357],\n",
       " [315, 196, 371],\n",
       " [315, 264, 411],\n",
       " [315, 300, 435],\n",
       " [315, 420, 525],\n",
       " [316, 237, 395],\n",
       " [318, 424, 530],\n",
       " [319, 360, 481],\n",
       " [320, 72, 328],\n",
       " [320, 156, 356],\n",
       " [320, 240, 400],\n",
       " [320, 336, 464],\n",
       " [320, 462, 562],\n",
       " [321, 428, 535],\n",
       " [322, 480, 578],\n",
       " [323, 36, 325],\n",
       " [324, 135, 351],\n",
       " [324, 243, 405],\n",
       " [324, 432, 540],\n",
       " [325, 228, 397],\n",
       " [325, 360, 485],\n",
       " [327, 436, 545],\n",
       " [328, 246, 410],\n",
       " [330, 104, 346],\n",
       " [330, 176, 374],\n",
       " [330, 288, 438],\n",
       " [330, 440, 550],\n",
       " [332, 249, 415],\n",
       " [333, 444, 555],\n",
       " [336, 45, 339],\n",
       " [336, 52, 340],\n",
       " [336, 98, 350],\n",
       " [336, 140, 364],\n",
       " [336, 190, 386],\n",
       " [336, 198, 390],\n",
       " [336, 252, 420],\n",
       " [336, 320, 464],\n",
       " [336, 377, 505],\n",
       " [336, 385, 511],\n",
       " [336, 448, 560],\n",
       " [339, 452, 565],\n",
       " [340, 189, 389],\n",
       " [340, 255, 425],\n",
       " [340, 357, 493],\n",
       " [341, 420, 541],\n",
       " [342, 280, 442],\n",
       " [342, 456, 570],\n",
       " [344, 258, 430],\n",
       " [345, 152, 377],\n",
       " [345, 184, 391],\n",
       " [345, 460, 575],\n",
       " [348, 145, 377],\n",
       " [348, 261, 435],\n",
       " [348, 464, 580],\n",
       " [350, 120, 370],\n",
       " [351, 132, 375],\n",
       " [351, 280, 449],\n",
       " [351, 468, 585],\n",
       " [352, 114, 370],\n",
       " [352, 135, 377],\n",
       " [352, 264, 440],\n",
       " [352, 420, 548],\n",
       " [354, 472, 590],\n",
       " [356, 267, 445],\n",
       " [357, 76, 365],\n",
       " [357, 340, 493],\n",
       " [357, 360, 507],\n",
       " [357, 476, 595],\n",
       " [360, 38, 362],\n",
       " [360, 66, 366],\n",
       " [360, 81, 369],\n",
       " [360, 105, 375],\n",
       " [360, 150, 390],\n",
       " [360, 192, 408],\n",
       " [360, 224, 424],\n",
       " [360, 270, 450],\n",
       " [360, 319, 481],\n",
       " [360, 325, 485],\n",
       " [360, 357, 507],\n",
       " [360, 378, 522],\n",
       " [360, 480, 600],\n",
       " [363, 484, 605],\n",
       " [364, 27, 365],\n",
       " [364, 240, 436],\n",
       " [364, 273, 455],\n",
       " [366, 488, 610],\n",
       " [368, 276, 460],\n",
       " [368, 465, 593],\n",
       " [369, 492, 615],\n",
       " [372, 155, 403],\n",
       " [372, 279, 465],\n",
       " [372, 496, 620],\n",
       " [374, 168, 410],\n",
       " [375, 200, 425],\n",
       " [375, 500, 625],\n",
       " [376, 282, 470],\n",
       " [377, 336, 505],\n",
       " [378, 96, 390],\n",
       " [378, 360, 522],\n",
       " [380, 261, 461],\n",
       " [380, 285, 475],\n",
       " [380, 399, 551],\n",
       " [384, 112, 400],\n",
       " [384, 160, 416],\n",
       " [384, 288, 480],\n",
       " [384, 440, 584],\n",
       " [385, 132, 407],\n",
       " [385, 180, 425],\n",
       " [385, 336, 511],\n",
       " [388, 291, 485],\n",
       " [390, 56, 394],\n",
       " [390, 208, 442],\n",
       " [390, 432, 582],\n",
       " [391, 120, 409],\n",
       " [392, 231, 455],\n",
       " [392, 294, 490],\n",
       " [396, 80, 404],\n",
       " [396, 165, 429],\n",
       " [396, 203, 445],\n",
       " [396, 255, 471],\n",
       " [396, 297, 495],\n",
       " [396, 403, 565],\n",
       " [399, 40, 401],\n",
       " [399, 380, 551],\n",
       " [399, 468, 615],\n",
       " [400, 90, 410],\n",
       " [400, 195, 445],\n",
       " [400, 300, 500],\n",
       " [400, 420, 580],\n",
       " [403, 396, 565],\n",
       " [404, 303, 505],\n",
       " [405, 216, 459],\n",
       " [405, 252, 477],\n",
       " [408, 119, 425],\n",
       " [408, 145, 433],\n",
       " [408, 170, 442],\n",
       " [408, 306, 510],\n",
       " [412, 309, 515],\n",
       " [414, 448, 610],\n",
       " [416, 87, 425],\n",
       " [416, 210, 466],\n",
       " [416, 312, 520],\n",
       " [418, 240, 482],\n",
       " [420, 29, 421],\n",
       " [420, 65, 425],\n",
       " [420, 77, 427],\n",
       " [420, 144, 444],\n",
       " [420, 153, 447],\n",
       " [420, 175, 455],\n",
       " [420, 224, 476],\n",
       " [420, 315, 525],\n",
       " [420, 341, 541],\n",
       " [420, 352, 548],\n",
       " [420, 400, 580],\n",
       " [420, 441, 609],\n",
       " [424, 318, 530],\n",
       " [425, 168, 457],\n",
       " [428, 321, 535],\n",
       " [429, 72, 435],\n",
       " [429, 460, 629],\n",
       " [432, 51, 435],\n",
       " [432, 126, 450],\n",
       " [432, 180, 468],\n",
       " [432, 324, 540],\n",
       " [432, 390, 582],\n",
       " [432, 495, 657],\n",
       " [435, 232, 493],\n",
       " [435, 308, 533],\n",
       " [436, 327, 545],\n",
       " [437, 84, 445],\n",
       " [440, 42, 442],\n",
       " [440, 99, 451],\n",
       " [440, 279, 521],\n",
       " [440, 330, 550],\n",
       " [440, 384, 584],\n",
       " [440, 462, 638],\n",
       " [441, 112, 455],\n",
       " [441, 420, 609],\n",
       " [442, 120, 458],\n",
       " [444, 185, 481],\n",
       " [444, 333, 555],\n",
       " [448, 60, 452],\n",
       " [448, 264, 520],\n",
       " [448, 336, 560],\n",
       " [448, 414, 610],\n",
       " [450, 240, 510],\n",
       " [450, 280, 530],\n",
       " [452, 339, 565],\n",
       " [455, 156, 481],\n",
       " [455, 300, 545],\n",
       " [456, 133, 475],\n",
       " [456, 190, 494],\n",
       " [456, 217, 505],\n",
       " [456, 342, 570],\n",
       " [459, 220, 509],\n",
       " [459, 312, 555],\n",
       " [460, 345, 575],\n",
       " [460, 429, 629],\n",
       " [460, 483, 667],\n",
       " [462, 216, 510],\n",
       " [462, 320, 562],\n",
       " [462, 440, 638],\n",
       " [464, 348, 580],\n",
       " [465, 248, 527],\n",
       " [465, 368, 593],\n",
       " [468, 155, 493],\n",
       " [468, 176, 500],\n",
       " [468, 195, 507],\n",
       " [468, 351, 585],\n",
       " [468, 399, 615],\n",
       " [472, 354, 590],\n",
       " [475, 132, 493],\n",
       " [476, 93, 485],\n",
       " [476, 357, 595],\n",
       " [476, 480, 676],\n",
       " [480, 31, 481],\n",
       " [480, 88, 488],\n",
       " [480, 108, 492],\n",
       " [480, 140, 500],\n",
       " [480, 200, 520],\n",
       " [480, 234, 534],\n",
       " [480, 256, 544],\n",
       " [480, 322, 578],\n",
       " [480, 360, 600],\n",
       " [480, 476, 676],\n",
       " [483, 44, 485],\n",
       " [483, 460, 667],\n",
       " [484, 363, 605],\n",
       " [488, 366, 610],\n",
       " [490, 168, 518],\n",
       " [492, 205, 533],\n",
       " [492, 369, 615],\n",
       " [493, 276, 565],\n",
       " [494, 192, 530],\n",
       " [495, 100, 505],\n",
       " [495, 156, 519],\n",
       " [495, 264, 561],\n",
       " [495, 308, 583],\n",
       " [495, 432, 657],\n",
       " [496, 372, 620],\n",
       " [500, 375, 625]]"
      ]
     },
     "execution_count": 4,
     "metadata": {},
     "output_type": "execute_result"
    }
   ],
   "source": [
    "ptriples(500)"
   ]
  },
  {
   "cell_type": "markdown",
   "metadata": {},
   "source": [
    "#            "
   ]
  },
  {
   "cell_type": "markdown",
   "metadata": {},
   "source": [
    "## Part 2"
   ]
  },
  {
   "cell_type": "code",
   "execution_count": 5,
   "metadata": {},
   "outputs": [],
   "source": [
    "import matplotlib.pyplot as plt\n",
    "\n",
    "\n",
    "def plotgraph(n):                              # this function displays a graph based on what the value of \"n\" is\n",
    "    inputs = [i[0] for i in ptriples(n)]\n",
    "    outputs = [i[1] for i in ptriples(n)]\n",
    "    plt.xlabel('$a$', fontsize = 15)\n",
    "    plt.ylabel('$b$', fontsize = 15)\n",
    "    plt.xlim(0, n+10)\n",
    "    plt.ylim(0, n+10)\n",
    "    plt.title('Pythagorean Tuples $(a,b)$')\n",
    "    plt.plot(inputs, outputs, 'rv')\n",
    "    plt.show()"
   ]
  },
  {
   "cell_type": "markdown",
   "metadata": {},
   "source": [
    "Notes about function plotgraph(n)."
   ]
  },
  {
   "cell_type": "markdown",
   "metadata": {},
   "source": [
    "Based on the value of the input of $n$ a graph will be created that represents the Pythagorean tuples (a,b) where $1≤a,b≤n$ for the values of $n$ that was the input."
   ]
  },
  {
   "cell_type": "markdown",
   "metadata": {},
   "source": [
    "#       "
   ]
  },
  {
   "cell_type": "markdown",
   "metadata": {},
   "source": [
    "### Test Cases"
   ]
  },
  {
   "cell_type": "code",
   "execution_count": 6,
   "metadata": {},
   "outputs": [
    {
     "data": {
      "image/png": "[encoded data removed]",
      "text/plain": [
       "<Figure size 432x288 with 1 Axes>"
      ]
     },
     "metadata": {
      "needs_background": "light"
     },
     "output_type": "display_data"
    }
   ],
   "source": [
    "plotgraph(20)"
   ]
  },
  {
   "cell_type": "code",
   "execution_count": 7,
   "metadata": {},
   "outputs": [
    {
     "data": {
      "image/png": "[encoded data removed]",
      "text/plain": [
       "<Figure size 432x288 with 1 Axes>"
      ]
     },
     "metadata": {
      "needs_background": "light"
     },
     "output_type": "display_data"
    }
   ],
   "source": [
    "plotgraph(40)"
   ]
  },
  {
   "cell_type": "code",
   "execution_count": 8,
   "metadata": {},
   "outputs": [
    {
     "data": {
      "image/png": "[encoded data removed]",
      "text/plain": [
       "<Figure size 432x288 with 1 Axes>"
      ]
     },
     "metadata": {
      "needs_background": "light"
     },
     "output_type": "display_data"
    }
   ],
   "source": [
    "plotgraph(50)"
   ]
  },
  {
   "cell_type": "code",
   "execution_count": 9,
   "metadata": {
    "scrolled": true
   },
   "outputs": [
    {
     "data": {
      "image/png": "[encoded data removed]",
      "text/plain": [
       "<Figure size 432x288 with 1 Axes>"
      ]
     },
     "metadata": {
      "needs_background": "light"
     },
     "output_type": "display_data"
    }
   ],
   "source": [
    "plotgraph(100)"
   ]
  },
  {
   "cell_type": "code",
   "execution_count": 10,
   "metadata": {},
   "outputs": [
    {
     "data": {
      "image/png": "[encoded data removed]",
      "text/plain": [
       "<Figure size 432x288 with 1 Axes>"
      ]
     },
     "metadata": {
      "needs_background": "light"
     },
     "output_type": "display_data"
    }
   ],
   "source": [
    "plotgraph(500)"
   ]
  },
  {
   "cell_type": "markdown",
   "metadata": {},
   "source": [
    "#         "
   ]
  },
  {
   "cell_type": "markdown",
   "metadata": {},
   "source": [
    "## Part 3"
   ]
  },
  {
   "cell_type": "markdown",
   "metadata": {},
   "source": [
    "### Most Important Takeaway"
   ]
  },
  {
   "cell_type": "markdown",
   "metadata": {},
   "source": [
    "It is noticeable from the graph of the 500 points that a lot of the points are concentrated in an angler line this maybe because most of the points of $a$ and $b$ are divisible by 3, 4, or 5."
   ]
  },
  {
   "cell_type": "markdown",
   "metadata": {},
   "source": [
    "##### For example:"
   ]
  },
  {
   "cell_type": "markdown",
   "metadata": {},
   "source": [
    "* $[6, 8, 10]$\n",
    "* $[21, 28, 35]$\n",
    "* $[64, 252, 260]$"
   ]
  },
  {
   "cell_type": "markdown",
   "metadata": {},
   "source": [
    "Each of the first and second entries of each list is divisible by 3, 4, or 5. "
   ]
  },
  {
   "cell_type": "markdown",
   "metadata": {},
   "source": [
    "##### Some exception:"
   ]
  },
  {
   "cell_type": "markdown",
   "metadata": {},
   "source": [
    "* $[182, 120, 218]$\n",
    "* $[7, 24, 25]$\n",
    "* $[14, 48, 50]$"
   ]
  },
  {
   "cell_type": "markdown",
   "metadata": {},
   "source": [
    "The values 182, 7, and 14 are not divisible by 3, 4, or 5."
   ]
  },
  {
   "cell_type": "markdown",
   "metadata": {},
   "source": [
    "I have created the fuction below to show that there are many values in Pythagorean tuples (a,b) that are divisible by either 3, 4, or 5."
   ]
  },
  {
   "cell_type": "code",
   "execution_count": 11,
   "metadata": {},
   "outputs": [],
   "source": [
    "def is_it_divisible(n):\n",
    "    counter_a = 0\n",
    "    not_counter_a = 0\n",
    "    for i in ptriples(n):                                  # looks for 'a' values that are divisible by either 3, 4, or 5\n",
    "        if i[0] % 3 == 0 or i[0] % 4 == 0 or i[0]%5==0:\n",
    "            counter_a = counter_a + 1\n",
    "        else:\n",
    "            not_counter_a = not_counter_a + 1              \n",
    "    counter_b = 0\n",
    "    not_counter_b = 0\n",
    "    for d in ptriples(n):                                # looks for 'b' values that are divisible by either 3, 4, or 5\n",
    "        if d[1] % 3 == 0 or d[1] % 4 == 0 or d[1] %5==0:\n",
    "            counter_b = counter_b + 1\n",
    "        else:\n",
    "            not_counter_b = not_counter_b + 1\n",
    "            \n",
    "            \n",
    "    # the following states the findings\n",
    "    \n",
    "    print(\"[𝑎,𝑏,𝑐]  will represent a set of Pythagorean tuples.\")\n",
    "    print(\" \")\n",
    "    print(\"Out of a total of \" + str(counter_a + not_counter_a) + \" numbers\")\n",
    "    print(\"There are \"+str(counter_a) +\" 'a' values that are divisible by either 3, 4, or 5.\")\n",
    "    print(\"There are \"+ str(not_counter_a) + \" values of 'a' that are not divisible by 3, 4, or 5.\")\n",
    "    print(\" \")\n",
    "    print(\"Out of a total of \" + str(counter_b + not_counter_b) + \" numbers.\")\n",
    "    print(\"There are \"+str(counter_b) + \" 'b' values that are divisible by either 3, 4, or 5.\")\n",
    "    print(\"There are \"+ str(not_counter_b) + \" values of 'b' that are not divisible by 3, 4, or 5.\")\n"
   ]
  },
  {
   "cell_type": "code",
   "execution_count": 12,
   "metadata": {},
   "outputs": [
    {
     "name": "stdout",
     "output_type": "stream",
     "text": [
      "[𝑎,𝑏,𝑐]  will represent a set of Pythagorean tuples.\n",
      " \n",
      "Out of a total of 14 numbers\n",
      "There are 14 'a' values that are divisible by either 3, 4, or 5.\n",
      "There are 0 values of 'a' that are not divisible by 3, 4, or 5.\n",
      " \n",
      "Out of a total of 14 numbers.\n",
      "There are 14 'b' values that are divisible by either 3, 4, or 5.\n",
      "There are 0 values of 'b' that are not divisible by 3, 4, or 5.\n"
     ]
    }
   ],
   "source": [
    "is_it_divisible(20)"
   ]
  },
  {
   "cell_type": "code",
   "execution_count": 13,
   "metadata": {},
   "outputs": [
    {
     "name": "stdout",
     "output_type": "stream",
     "text": [
      "[𝑎,𝑏,𝑐]  will represent a set of Pythagorean tuples.\n",
      " \n",
      "Out of a total of 126 numbers\n",
      "There are 120 'a' values that are divisible by either 3, 4, or 5.\n",
      "There are 6 values of 'a' that are not divisible by 3, 4, or 5.\n",
      " \n",
      "Out of a total of 126 numbers.\n",
      "There are 120 'b' values that are divisible by either 3, 4, or 5.\n",
      "There are 6 values of 'b' that are not divisible by 3, 4, or 5.\n"
     ]
    }
   ],
   "source": [
    "is_it_divisible(100)"
   ]
  },
  {
   "cell_type": "code",
   "execution_count": 14,
   "metadata": {},
   "outputs": [
    {
     "name": "stdout",
     "output_type": "stream",
     "text": [
      "[𝑎,𝑏,𝑐]  will represent a set of Pythagorean tuples.\n",
      " \n",
      "Out of a total of 912 numbers\n",
      "There are 860 'a' values that are divisible by either 3, 4, or 5.\n",
      "There are 52 values of 'a' that are not divisible by 3, 4, or 5.\n",
      " \n",
      "Out of a total of 912 numbers.\n",
      "There are 860 'b' values that are divisible by either 3, 4, or 5.\n",
      "There are 52 values of 'b' that are not divisible by 3, 4, or 5.\n"
     ]
    }
   ],
   "source": [
    "is_it_divisible(500)"
   ]
  },
  {
   "cell_type": "markdown",
   "metadata": {},
   "source": [
    "#                         "
   ]
  },
  {
   "cell_type": "markdown",
   "metadata": {},
   "source": [
    "This function shows that most of the points of $a$ and $b$ are divisible by 3, 4, or 5, which is most likely causing the lines to be created by points on the graph."
   ]
  },
  {
   "cell_type": "markdown",
   "metadata": {},
   "source": [
    "#              "
   ]
  },
  {
   "cell_type": "markdown",
   "metadata": {},
   "source": [
    "### Other Minor Takeaways"
   ]
  },
  {
   "cell_type": "markdown",
   "metadata": {},
   "source": [
    "The structure of the Pythagorean tuples demonstrates that if a set $[a, b, c]$ is a set of Pythagorean tuples then this also means that set $[b, a, c]$ will qualify as a Pythagorean tuples.\n",
    "Examples:\n",
    "* $ [3, 4, 5], [4, 3, 5] $\n",
    "* $[5, 12, 13], [12, 5, 13]$\n",
    "* $[15, 20, 25], [16, 12, 20]$\n"
   ]
  },
  {
   "cell_type": "markdown",
   "metadata": {},
   "source": [
    "Each of the bullet points is two sets that are Pythagorean tuples where the first and second numbers in each of the lists are being switched. The third number in the two lists are remaining the same though."
   ]
  },
  {
   "cell_type": "markdown",
   "metadata": {},
   "source": [
    "Additionally, as far as I have tested it there are not any repeating numbers in a set of Pythagorean tuples."
   ]
  },
  {
   "cell_type": "markdown",
   "metadata": {},
   "source": [
    "$$a \\ne b \\ne c $$ where $a, b,  c -> [a, b, c]$, \n",
    "$1≤a$,  $1≤b$"
   ]
  },
  {
   "cell_type": "markdown",
   "metadata": {},
   "source": [
    "This makes sense because of $c = \\sqrt(a^2+b^2)$. To my knowledge, there are no $a$ and $b$ values that can give a $c$ value that is equal to either the $a$ or the $b$ number if all of the variables are whole numbers greater than 1."
   ]
  },
  {
   "cell_type": "markdown",
   "metadata": {},
   "source": [
    "Another thing that I notice was that the $c$ value was always larger than the $a$ or $b$ value in a Pythagorean triple.\n",
    "\n",
    "$$c = \\sqrt(a^2+b^2)$$\n",
    "* $c > a$\n",
    "* $c > b$\n",
    "\n"
   ]
  },
  {
   "cell_type": "markdown",
   "metadata": {},
   "source": [
    "#      "
   ]
  },
  {
   "cell_type": "markdown",
   "metadata": {},
   "source": [
    "## Conclusion"
   ]
  },
  {
   "cell_type": "markdown",
   "metadata": {},
   "source": [
    "This project showed us how to identify characteristics of Pythagorean triples. By creating the function $ptriples(n)$ we were able to understand the requirements that go into being considered a Pythagorean triples. We identified traits within Pythagorean triples, such as the fact that if $(𝑎,𝑏,𝑐)$  is a set of Pythagorean tuples then this also means that the set $(𝑏,𝑎,𝑐)$ also qualifies. The most important trait that I noticed was that many of the points of $a$ and $b$ are divisible by 3, 4, or 5. "
   ]
  }
 ],
 "metadata": {
  "kernelspec": {
   "display_name": "Python 3",
   "language": "python",
   "name": "python3"
  },
  "language_info": {
   "codemirror_mode": {
    "name": "ipython",
    "version": 3
   },
   "file_extension": ".py",
   "mimetype": "text/x-python",
   "name": "python",
   "nbconvert_exporter": "python",
   "pygments_lexer": "ipython3",
   "version": "3.8.3"
  }
 },
 "nbformat": 4,
 "nbformat_minor": 4
}
